{
 "cells": [
  {
   "cell_type": "markdown",
   "id": "c82f6564-3ff0-4527-82a0-66c3fc84d2c1",
   "metadata": {},
   "source": [
    "# Free Code Camp Course - Pyspark Full Course 2h"
   ]
  },
  {
   "cell_type": "markdown",
   "id": "fb89df83-f03f-47c3-b442-96958476c96f",
   "metadata": {},
   "source": [
    "## Part 1 - Setup"
   ]
  },
  {
   "cell_type": "code",
   "execution_count": 1,
   "id": "d21beb04-62e0-455b-9739-e74649b7b5ac",
   "metadata": {},
   "outputs": [
    {
     "name": "stdout",
     "output_type": "stream",
     "text": [
      "Requirement already satisfied: pyspark in /home/client111/anaconda3/lib/python3.12/site-packages (3.5.2)\n",
      "Requirement already satisfied: py4j==0.10.9.7 in /home/client111/anaconda3/lib/python3.12/site-packages (from pyspark) (0.10.9.7)\n"
     ]
    }
   ],
   "source": [
    "!pip install pyspark"
   ]
  },
  {
   "cell_type": "code",
   "execution_count": 3,
   "id": "98b5cad4-bbe3-4cbd-a8e9-70ae0275f7a2",
   "metadata": {},
   "outputs": [
    {
     "name": "stdout",
     "output_type": "stream",
     "text": [
      "Requirement already satisfied: pandas in /home/client111/anaconda3/lib/python3.12/site-packages (2.2.2)\n",
      "Requirement already satisfied: numpy>=1.26.0 in /home/client111/anaconda3/lib/python3.12/site-packages (from pandas) (1.26.4)\n",
      "Requirement already satisfied: python-dateutil>=2.8.2 in /home/client111/anaconda3/lib/python3.12/site-packages (from pandas) (2.9.0.post0)\n",
      "Requirement already satisfied: pytz>=2020.1 in /home/client111/anaconda3/lib/python3.12/site-packages (from pandas) (2024.1)\n",
      "Requirement already satisfied: tzdata>=2022.7 in /home/client111/anaconda3/lib/python3.12/site-packages (from pandas) (2023.3)\n",
      "Requirement already satisfied: six>=1.5 in /home/client111/anaconda3/lib/python3.12/site-packages (from python-dateutil>=2.8.2->pandas) (1.16.0)\n"
     ]
    }
   ],
   "source": [
    "!pip install pandas"
   ]
  },
  {
   "cell_type": "code",
   "execution_count": 5,
   "id": "16a88749-e379-415f-97c0-1f9fd5a3e2bb",
   "metadata": {},
   "outputs": [],
   "source": [
    "import pyspark"
   ]
  },
  {
   "cell_type": "code",
   "execution_count": 7,
   "id": "3fa5762d-8d7c-4485-a292-f5b2a4d7f143",
   "metadata": {},
   "outputs": [],
   "source": [
    "import pandas as pd"
   ]
  },
  {
   "cell_type": "code",
   "execution_count": 9,
   "id": "b8583bb7-0d0d-4378-86e2-189f1232275f",
   "metadata": {},
   "outputs": [
    {
     "data": {
      "text/html": [
       "<div>\n",
       "<style scoped>\n",
       "    .dataframe tbody tr th:only-of-type {\n",
       "        vertical-align: middle;\n",
       "    }\n",
       "\n",
       "    .dataframe tbody tr th {\n",
       "        vertical-align: top;\n",
       "    }\n",
       "\n",
       "    .dataframe thead th {\n",
       "        text-align: right;\n",
       "    }\n",
       "</style>\n",
       "<table border=\"1\" class=\"dataframe\">\n",
       "  <thead>\n",
       "    <tr style=\"text-align: right;\">\n",
       "      <th></th>\n",
       "      <th>name</th>\n",
       "      <th>age</th>\n",
       "      <th>experience</th>\n",
       "    </tr>\n",
       "  </thead>\n",
       "  <tbody>\n",
       "    <tr>\n",
       "      <th>0</th>\n",
       "      <td>akbar</td>\n",
       "      <td>11</td>\n",
       "      <td>2</td>\n",
       "    </tr>\n",
       "    <tr>\n",
       "      <th>1</th>\n",
       "      <td>abbas</td>\n",
       "      <td>20</td>\n",
       "      <td>1</td>\n",
       "    </tr>\n",
       "    <tr>\n",
       "      <th>2</th>\n",
       "      <td>nasrin</td>\n",
       "      <td>22</td>\n",
       "      <td>2</td>\n",
       "    </tr>\n",
       "    <tr>\n",
       "      <th>3</th>\n",
       "      <td>fariborz</td>\n",
       "      <td>40</td>\n",
       "      <td>3</td>\n",
       "    </tr>\n",
       "  </tbody>\n",
       "</table>\n",
       "</div>"
      ],
      "text/plain": [
       "       name  age  experience\n",
       "0     akbar   11           2\n",
       "1     abbas   20           1\n",
       "2    nasrin   22           2\n",
       "3  fariborz   40           3"
      ]
     },
     "execution_count": 9,
     "metadata": {},
     "output_type": "execute_result"
    }
   ],
   "source": [
    "pd.read_csv('datas.csv')"
   ]
  },
  {
   "cell_type": "markdown",
   "id": "c92cc555-6e73-4cff-8d1d-e34a5e59acce",
   "metadata": {},
   "source": [
    "## Part 2 - Pyspark Dataframe - Basic APIs"
   ]
  },
  {
   "cell_type": "code",
   "execution_count": 11,
   "id": "b18ec2a5-a817-45d3-8ad9-9781672131ce",
   "metadata": {},
   "outputs": [],
   "source": [
    "from pyspark.sql import SparkSession"
   ]
  },
  {
   "cell_type": "code",
   "execution_count": 13,
   "id": "c8fc5a48-7cc8-4255-bae9-093c3348c8b8",
   "metadata": {},
   "outputs": [
    {
     "name": "stderr",
     "output_type": "stream",
     "text": [
      "Setting default log level to \"WARN\".\n",
      "To adjust logging level use sc.setLogLevel(newLevel). For SparkR, use setLogLevel(newLevel).\n",
      "24/09/01 10:33:09 WARN NativeCodeLoader: Unable to load native-hadoop library for your platform... using builtin-java classes where applicable\n"
     ]
    }
   ],
   "source": [
    "spark = SparkSession.builder.appName('Practice').getOrCreate()"
   ]
  },
  {
   "cell_type": "code",
   "execution_count": 15,
   "id": "2298a73c-ef86-43f7-a04b-5085f11287f8",
   "metadata": {},
   "outputs": [],
   "source": [
    "df_pyspark = spark.read.csv('datas.csv')"
   ]
  },
  {
   "cell_type": "code",
   "execution_count": 17,
   "id": "a686f574-c288-485f-9fd2-961336e2c000",
   "metadata": {},
   "outputs": [
    {
     "name": "stdout",
     "output_type": "stream",
     "text": [
      "+--------+---+----------+\n",
      "|     _c0|_c1|       _c2|\n",
      "+--------+---+----------+\n",
      "|    name|age|experience|\n",
      "|   akbar| 11|         2|\n",
      "|   abbas| 20|         1|\n",
      "|  nasrin| 22|         2|\n",
      "|fariborz| 40|         3|\n",
      "+--------+---+----------+\n",
      "\n"
     ]
    }
   ],
   "source": [
    "df_pyspark.show()"
   ]
  },
  {
   "cell_type": "code",
   "execution_count": 19,
   "id": "d249b1ba-487f-42be-9cdd-bfac1b76da67",
   "metadata": {},
   "outputs": [],
   "source": [
    "df = spark.read.option('header', 'true').option('inferSchema', 'true').csv('datas.csv', inferSchema=True)"
   ]
  },
  {
   "cell_type": "code",
   "execution_count": 21,
   "id": "93e7cf3e-372a-4df3-aa7a-cfff6e352aee",
   "metadata": {},
   "outputs": [
    {
     "name": "stdout",
     "output_type": "stream",
     "text": [
      "+--------+---+----------+\n",
      "|    name|age|experience|\n",
      "+--------+---+----------+\n",
      "|   akbar| 11|         2|\n",
      "|   abbas| 20|         1|\n",
      "|  nasrin| 22|         2|\n",
      "|fariborz| 40|         3|\n",
      "+--------+---+----------+\n",
      "\n"
     ]
    }
   ],
   "source": [
    "df.show()"
   ]
  },
  {
   "cell_type": "code",
   "execution_count": 23,
   "id": "fb1b43d5-11dd-4b8c-b1f0-9fbef301f57a",
   "metadata": {},
   "outputs": [
    {
     "name": "stdout",
     "output_type": "stream",
     "text": [
      "root\n",
      " |-- name: string (nullable = true)\n",
      " |-- age: integer (nullable = true)\n",
      " |-- experience: integer (nullable = true)\n",
      "\n"
     ]
    }
   ],
   "source": [
    "df.printSchema()"
   ]
  },
  {
   "cell_type": "code",
   "execution_count": 25,
   "id": "62ec7b56-8834-4740-bc0a-28b7e235de31",
   "metadata": {},
   "outputs": [
    {
     "data": {
      "text/plain": [
       "[Row(name='akbar', age=11, experience=2),\n",
       " Row(name='abbas', age=20, experience=1),\n",
       " Row(name='nasrin', age=22, experience=2)]"
      ]
     },
     "execution_count": 25,
     "metadata": {},
     "output_type": "execute_result"
    }
   ],
   "source": [
    "df.head(3)"
   ]
  },
  {
   "cell_type": "code",
   "execution_count": 27,
   "id": "7cbd3a00-f4da-4a9f-a0ea-7478a6d93fda",
   "metadata": {},
   "outputs": [
    {
     "data": {
      "text/plain": [
       "pyspark.sql.dataframe.DataFrame"
      ]
     },
     "execution_count": 27,
     "metadata": {},
     "output_type": "execute_result"
    }
   ],
   "source": [
    "type(df)"
   ]
  },
  {
   "cell_type": "code",
   "execution_count": 29,
   "id": "1d1de22b-5d8e-4792-91ca-7e6943741c1a",
   "metadata": {},
   "outputs": [
    {
     "data": {
      "text/plain": [
       "['name', 'age', 'experience']"
      ]
     },
     "execution_count": 29,
     "metadata": {},
     "output_type": "execute_result"
    }
   ],
   "source": [
    "df.columns"
   ]
  },
  {
   "cell_type": "code",
   "execution_count": 31,
   "id": "b53b2599-134a-4498-aa4c-468b2c94f71c",
   "metadata": {},
   "outputs": [
    {
     "data": {
      "text/plain": [
       "DataFrame[Name: string]"
      ]
     },
     "execution_count": 31,
     "metadata": {},
     "output_type": "execute_result"
    }
   ],
   "source": [
    "df.select('Name')"
   ]
  },
  {
   "cell_type": "code",
   "execution_count": 33,
   "id": "6e8a2622-e219-4a4b-a511-a9029b74a6d0",
   "metadata": {},
   "outputs": [
    {
     "name": "stdout",
     "output_type": "stream",
     "text": [
      "+--------+\n",
      "|    Name|\n",
      "+--------+\n",
      "|   akbar|\n",
      "|   abbas|\n",
      "|  nasrin|\n",
      "|fariborz|\n",
      "+--------+\n",
      "\n"
     ]
    }
   ],
   "source": [
    "df.select('Name').show()"
   ]
  },
  {
   "cell_type": "code",
   "execution_count": 35,
   "id": "ebf645b2-fdd1-49ac-a010-2f1e06238fb6",
   "metadata": {},
   "outputs": [
    {
     "data": {
      "text/plain": [
       "DataFrame[Name: string, Experience: int]"
      ]
     },
     "execution_count": 35,
     "metadata": {},
     "output_type": "execute_result"
    }
   ],
   "source": [
    "df.select(['Name', 'Experience'])"
   ]
  },
  {
   "cell_type": "code",
   "execution_count": 37,
   "id": "d8873d1e-b060-4424-9bfc-1a0c318b9957",
   "metadata": {},
   "outputs": [
    {
     "name": "stdout",
     "output_type": "stream",
     "text": [
      "+--------+----------+\n",
      "|    Name|Experience|\n",
      "+--------+----------+\n",
      "|   akbar|         2|\n",
      "|   abbas|         1|\n",
      "|  nasrin|         2|\n",
      "|fariborz|         3|\n",
      "+--------+----------+\n",
      "\n"
     ]
    }
   ],
   "source": [
    "df.select(['Name', 'Experience']).show()"
   ]
  },
  {
   "cell_type": "code",
   "execution_count": 41,
   "id": "f45a43cc-e76c-4343-960a-14806477e1b0",
   "metadata": {},
   "outputs": [
    {
     "data": {
      "text/plain": [
       "Column<'Name'>"
      ]
     },
     "execution_count": 41,
     "metadata": {},
     "output_type": "execute_result"
    }
   ],
   "source": [
    "df['Name']"
   ]
  },
  {
   "cell_type": "code",
   "execution_count": 46,
   "id": "2bfb1984-77c7-49e5-bc04-cdab2f7b2978",
   "metadata": {},
   "outputs": [],
   "source": [
    "# df['Name'].show()"
   ]
  },
  {
   "cell_type": "code",
   "execution_count": 48,
   "id": "ba761269-fa2e-4edc-a5d2-39c768f8d1f9",
   "metadata": {},
   "outputs": [
    {
     "data": {
      "text/plain": [
       "[('name', 'string'), ('age', 'int'), ('experience', 'int')]"
      ]
     },
     "execution_count": 48,
     "metadata": {},
     "output_type": "execute_result"
    }
   ],
   "source": [
    "df.dtypes"
   ]
  },
  {
   "cell_type": "code",
   "execution_count": 50,
   "id": "b913edff-56c1-4aeb-b00a-fa132cb5b2bd",
   "metadata": {},
   "outputs": [
    {
     "data": {
      "text/plain": [
       "DataFrame[summary: string, name: string, age: string, experience: string]"
      ]
     },
     "execution_count": 50,
     "metadata": {},
     "output_type": "execute_result"
    }
   ],
   "source": [
    "df.describe()"
   ]
  },
  {
   "cell_type": "code",
   "execution_count": 52,
   "id": "2fa1bad3-c7fe-4f7f-be36-f72ae4634c60",
   "metadata": {},
   "outputs": [
    {
     "name": "stdout",
     "output_type": "stream",
     "text": [
      "+-------+------+------------------+-----------------+\n",
      "|summary|  name|               age|       experience|\n",
      "+-------+------+------------------+-----------------+\n",
      "|  count|     4|                 4|                4|\n",
      "|   mean|  NULL|             23.25|              2.0|\n",
      "| stddev|  NULL|12.148388096094616|0.816496580927726|\n",
      "|    min| abbas|                11|                1|\n",
      "|    max|nasrin|                40|                3|\n",
      "+-------+------+------------------+-----------------+\n",
      "\n"
     ]
    }
   ],
   "source": [
    "df.describe().show()"
   ]
  },
  {
   "cell_type": "code",
   "execution_count": 62,
   "id": "4e1e4a4d-bfc3-44ef-8d61-c9f56301ad5f",
   "metadata": {},
   "outputs": [
    {
     "data": {
      "text/plain": [
       "DataFrame[name: string, age: int, experience: int, experience after 2 years: int]"
      ]
     },
     "execution_count": 62,
     "metadata": {},
     "output_type": "execute_result"
    }
   ],
   "source": [
    "# add new column to pyspark dataframe\n",
    "df = df.withColumn('experience after 2 years', df['experience'] + 2)\n",
    "df"
   ]
  },
  {
   "cell_type": "code",
   "execution_count": 60,
   "id": "a07b0f7e-23c2-456a-9644-93ff31b7b42c",
   "metadata": {},
   "outputs": [
    {
     "name": "stdout",
     "output_type": "stream",
     "text": [
      "+--------+---+----------+------------------------+\n",
      "|    name|age|experience|experience after 2 years|\n",
      "+--------+---+----------+------------------------+\n",
      "|   akbar| 11|         2|                       4|\n",
      "|   abbas| 20|         1|                       3|\n",
      "|  nasrin| 22|         2|                       4|\n",
      "|fariborz| 40|         3|                       5|\n",
      "+--------+---+----------+------------------------+\n",
      "\n"
     ]
    }
   ],
   "source": [
    "df.show()"
   ]
  },
  {
   "cell_type": "code",
   "execution_count": 66,
   "id": "0cff8606-07f7-4452-b950-fe70471db193",
   "metadata": {},
   "outputs": [
    {
     "data": {
      "text/plain": [
       "DataFrame[name: string, age: int, experience: int]"
      ]
     },
     "execution_count": 66,
     "metadata": {},
     "output_type": "execute_result"
    }
   ],
   "source": [
    "# drop the column\n",
    "df = df.drop('experience after 2 years')\n",
    "df"
   ]
  },
  {
   "cell_type": "code",
   "execution_count": 68,
   "id": "3e5e548d-3348-4a6f-8808-ae39ce160541",
   "metadata": {},
   "outputs": [
    {
     "name": "stdout",
     "output_type": "stream",
     "text": [
      "+--------+---+----------+\n",
      "|    name|age|experience|\n",
      "+--------+---+----------+\n",
      "|   akbar| 11|         2|\n",
      "|   abbas| 20|         1|\n",
      "|  nasrin| 22|         2|\n",
      "|fariborz| 40|         3|\n",
      "+--------+---+----------+\n",
      "\n"
     ]
    }
   ],
   "source": [
    "df.show()"
   ]
  },
  {
   "cell_type": "code",
   "execution_count": 74,
   "id": "cfe92434-0714-4f64-aeab-a1d07a961b4a",
   "metadata": {},
   "outputs": [
    {
     "data": {
      "text/plain": [
       "DataFrame[name: string, age: int, Experience: int]"
      ]
     },
     "execution_count": 74,
     "metadata": {},
     "output_type": "execute_result"
    }
   ],
   "source": [
    "# rename a column\n",
    "df = df.withColumnRenamed('experience', 'Experience')\n",
    "df"
   ]
  },
  {
   "cell_type": "code",
   "execution_count": 76,
   "id": "f28c823f-ba16-4b95-8d8f-7edde30dd2b9",
   "metadata": {},
   "outputs": [
    {
     "name": "stdout",
     "output_type": "stream",
     "text": [
      "+--------+---+----------+\n",
      "|    name|age|Experience|\n",
      "+--------+---+----------+\n",
      "|   akbar| 11|         2|\n",
      "|   abbas| 20|         1|\n",
      "|  nasrin| 22|         2|\n",
      "|fariborz| 40|         3|\n",
      "+--------+---+----------+\n",
      "\n"
     ]
    }
   ],
   "source": [
    "df.show()"
   ]
  },
  {
   "cell_type": "markdown",
   "id": "97e387a9-4d4d-4379-a64b-26afb5b8476a",
   "metadata": {},
   "source": [
    "# Part 3 - Pyspark Dataframe - Handling Missing Values"
   ]
  },
  {
   "cell_type": "code",
   "execution_count": 98,
   "id": "ac4f8d71-2512-4de7-a0c7-74588d53ac19",
   "metadata": {},
   "outputs": [],
   "source": [
    "from pyspark.sql.functions import rand, round"
   ]
  },
  {
   "cell_type": "code",
   "execution_count": 100,
   "id": "eda231c8-599c-4614-bbbc-53cde3b564fa",
   "metadata": {},
   "outputs": [
    {
     "data": {
      "text/plain": [
       "DataFrame[name: string, age: int, Experience: int, salary: double]"
      ]
     },
     "execution_count": 100,
     "metadata": {},
     "output_type": "execute_result"
    }
   ],
   "source": [
    "df = df.withColumn('salary', round(rand(seed=3) * 1000, 0))\n",
    "df"
   ]
  },
  {
   "cell_type": "code",
   "execution_count": 102,
   "id": "c9816d5c-7b76-4968-a774-a3feb52ce83f",
   "metadata": {},
   "outputs": [
    {
     "name": "stdout",
     "output_type": "stream",
     "text": [
      "+--------+---+----------+------+\n",
      "|    name|age|Experience|salary|\n",
      "+--------+---+----------+------+\n",
      "|   akbar| 11|         2| 257.0|\n",
      "|   abbas| 20|         1| 670.0|\n",
      "|  nasrin| 22|         2| 942.0|\n",
      "|fariborz| 40|         3| 730.0|\n",
      "+--------+---+----------+------+\n",
      "\n"
     ]
    }
   ],
   "source": [
    "df.show()"
   ]
  },
  {
   "cell_type": "code",
   "execution_count": 118,
   "id": "279a7421-448c-4693-b977-9734a481234e",
   "metadata": {},
   "outputs": [],
   "source": [
    "df = spark.read.option('header', 'true').option('inferSchema', 'true').csv('datas-2.csv', inferSchema=True)"
   ]
  },
  {
   "cell_type": "code",
   "execution_count": 157,
   "id": "74c9ba81-fd70-48db-a6dd-7a66db373526",
   "metadata": {},
   "outputs": [
    {
     "name": "stdout",
     "output_type": "stream",
     "text": [
      "+--------+----+----------+\n",
      "|    name| age|experience|\n",
      "+--------+----+----------+\n",
      "|   akbar|  11|         2|\n",
      "|   abbas|  20|      NULL|\n",
      "|  nasrin|NULL|         2|\n",
      "|fariborz|  40|         3|\n",
      "|    NULL|  90|        10|\n",
      "| goodarz|NULL|         5|\n",
      "|shahrooz|  40|         2|\n",
      "| changiz|  35|      NULL|\n",
      "|  sohrab|NULL|         6|\n",
      "|belgheis|  31|      NULL|\n",
      "+--------+----+----------+\n",
      "\n"
     ]
    }
   ],
   "source": [
    "# drop null recrods\n",
    "df.dropna(how='all').show()"
   ]
  },
  {
   "cell_type": "code",
   "execution_count": 159,
   "id": "6d9e5a13-ae6e-4c0d-977e-59b6d07f8464",
   "metadata": {},
   "outputs": [
    {
     "name": "stdout",
     "output_type": "stream",
     "text": [
      "+--------+---+----------+\n",
      "|    name|age|experience|\n",
      "+--------+---+----------+\n",
      "|   akbar| 11|         2|\n",
      "|   abbas| 20|      NULL|\n",
      "|fariborz| 40|         3|\n",
      "|    NULL| 90|        10|\n",
      "|shahrooz| 40|         2|\n",
      "| changiz| 35|      NULL|\n",
      "|belgheis| 31|      NULL|\n",
      "+--------+---+----------+\n",
      "\n"
     ]
    }
   ],
   "source": [
    "# drop null records on specific columns\n",
    "df.dropna(how=\"any\", subset=['age']).show()"
   ]
  },
  {
   "cell_type": "code",
   "execution_count": 161,
   "id": "d4ec3a7e-f6d4-4c5b-9a8c-03d609eebc85",
   "metadata": {},
   "outputs": [
    {
     "name": "stdout",
     "output_type": "stream",
     "text": [
      "+--------+----+----------+\n",
      "|    name| age|experience|\n",
      "+--------+----+----------+\n",
      "|   akbar|  11|         2|\n",
      "|   abbas|  20|      NULL|\n",
      "|  nasrin|NULL|         2|\n",
      "|fariborz|  40|         3|\n",
      "|  NONAME|  90|        10|\n",
      "| goodarz|NULL|         5|\n",
      "|shahrooz|  40|         2|\n",
      "| changiz|  35|      NULL|\n",
      "|  sohrab|NULL|         6|\n",
      "|belgheis|  31|      NULL|\n",
      "+--------+----+----------+\n",
      "\n"
     ]
    }
   ],
   "source": [
    "# filling the missing values string values\n",
    "df.fillna('NONAME').show()"
   ]
  },
  {
   "cell_type": "code",
   "execution_count": 165,
   "id": "48ff260b-3fc1-4492-8c00-0a1ae7f54916",
   "metadata": {},
   "outputs": [
    {
     "name": "stdout",
     "output_type": "stream",
     "text": [
      "+--------+----+----------+\n",
      "|    name| age|experience|\n",
      "+--------+----+----------+\n",
      "|   akbar|  11|         2|\n",
      "|   abbas|  20|      NULL|\n",
      "|  nasrin|NULL|         2|\n",
      "|fariborz|  40|         3|\n",
      "|  NONAME|  90|        10|\n",
      "| goodarz|NULL|         5|\n",
      "|shahrooz|  40|         2|\n",
      "| changiz|  35|      NULL|\n",
      "|  sohrab|NULL|         6|\n",
      "|belgheis|  31|      NULL|\n",
      "+--------+----+----------+\n",
      "\n"
     ]
    }
   ],
   "source": [
    "# filling the missing values string values specific columns\n",
    "df.fillna('NONAME', ['name', 'age']).show()"
   ]
  },
  {
   "cell_type": "code",
   "execution_count": 171,
   "id": "bc4c4964-759a-4c7a-9422-fe9d1a6270dd",
   "metadata": {},
   "outputs": [
    {
     "name": "stdout",
     "output_type": "stream",
     "text": [
      "+--------+---+----------+\n",
      "|    name|age|experience|\n",
      "+--------+---+----------+\n",
      "|   akbar| 11|         2|\n",
      "|   abbas| 20|      NULL|\n",
      "|  nasrin|  0|         2|\n",
      "|fariborz| 40|         3|\n",
      "| UNKNOWN| 90|        10|\n",
      "| goodarz|  0|         5|\n",
      "|shahrooz| 40|         2|\n",
      "| changiz| 35|      NULL|\n",
      "|  sohrab|  0|         6|\n",
      "|belgheis| 31|      NULL|\n",
      "+--------+---+----------+\n",
      "\n"
     ]
    }
   ],
   "source": [
    "# filling the missing values specific columns for each column\n",
    "df.na.fill({'age': 0, 'name': 'UNKNOWN'}).show()"
   ]
  },
  {
   "cell_type": "code",
   "execution_count": 173,
   "id": "f2860327-b81f-4050-b2f6-2bed4f3b3856",
   "metadata": {},
   "outputs": [],
   "source": [
    "from pyspark.ml.feature import Imputer"
   ]
  },
  {
   "cell_type": "code",
   "execution_count": 177,
   "id": "0123ef7d-8ebf-4c5b-b15c-d595cb48fcae",
   "metadata": {},
   "outputs": [],
   "source": [
    "imputer = Imputer(\n",
    "    inputCols=['age', 'experience'],\n",
    "    outputCols=[\"{}_imputed\".format(c) for c in ['age', 'experience']]\n",
    "                ).setStrategy('mean')"
   ]
  },
  {
   "cell_type": "code",
   "execution_count": 179,
   "id": "fa744aa2-2f29-4650-a3b6-8a4e8ba2d8fb",
   "metadata": {},
   "outputs": [
    {
     "name": "stdout",
     "output_type": "stream",
     "text": [
      "+--------+----+----------+-----------+------------------+\n",
      "|    name| age|experience|age_imputed|experience_imputed|\n",
      "+--------+----+----------+-----------+------------------+\n",
      "|   akbar|  11|         2|         11|                 2|\n",
      "|   abbas|  20|      NULL|         20|                 4|\n",
      "|  nasrin|NULL|         2|         38|                 2|\n",
      "|fariborz|  40|         3|         40|                 3|\n",
      "|    NULL|  90|        10|         90|                10|\n",
      "| goodarz|NULL|         5|         38|                 5|\n",
      "|shahrooz|  40|         2|         40|                 2|\n",
      "| changiz|  35|      NULL|         35|                 4|\n",
      "|  sohrab|NULL|         6|         38|                 6|\n",
      "|belgheis|  31|      NULL|         31|                 4|\n",
      "+--------+----+----------+-----------+------------------+\n",
      "\n"
     ]
    }
   ],
   "source": [
    "imputer.fit(df).transform(df).show()"
   ]
  },
  {
   "cell_type": "markdown",
   "id": "488c36c2-d310-4b89-a156-3446f1c65acd",
   "metadata": {},
   "source": [
    "## Part 4 - Pyspark Dataframe - Filter Operation"
   ]
  },
  {
   "cell_type": "code",
   "execution_count": 187,
   "id": "c5801894-ca83-4bbc-aeff-0c3a791ac7b8",
   "metadata": {},
   "outputs": [
    {
     "name": "stdout",
     "output_type": "stream",
     "text": [
      "+--------+---+----------+\n",
      "|    name|age|experience|\n",
      "+--------+---+----------+\n",
      "|fariborz| 40|         3|\n",
      "|    NULL| 90|        10|\n",
      "|shahrooz| 40|         2|\n",
      "| changiz| 35|      NULL|\n",
      "|belgheis| 31|      NULL|\n",
      "+--------+---+----------+\n",
      "\n"
     ]
    }
   ],
   "source": [
    "df.filter(df.age > 30).show()"
   ]
  },
  {
   "cell_type": "code",
   "execution_count": 205,
   "id": "82b8dacf-6b6d-4b1a-b275-495756136705",
   "metadata": {},
   "outputs": [
    {
     "name": "stdout",
     "output_type": "stream",
     "text": [
      "+--------+---+----------+\n",
      "|    name|age|experience|\n",
      "+--------+---+----------+\n",
      "|fariborz| 40|         3|\n",
      "|    NULL| 90|        10|\n",
      "|shahrooz| 40|         2|\n",
      "| changiz| 35|      NULL|\n",
      "|belgheis| 31|      NULL|\n",
      "+--------+---+----------+\n",
      "\n"
     ]
    }
   ],
   "source": [
    "# find\n",
    "df.filter(\"age > 30\").show()"
   ]
  },
  {
   "cell_type": "code",
   "execution_count": 195,
   "id": "cd27deff-801d-401f-8c55-df160744128a",
   "metadata": {},
   "outputs": [
    {
     "name": "stdout",
     "output_type": "stream",
     "text": [
      "+-----+---+----------+\n",
      "| name|age|experience|\n",
      "+-----+---+----------+\n",
      "|akbar| 11|         2|\n",
      "+-----+---+----------+\n",
      "\n"
     ]
    }
   ],
   "source": [
    "df.filter(df.name == \"akbar\").show()"
   ]
  },
  {
   "cell_type": "code",
   "execution_count": 199,
   "id": "48824d3f-76dc-487c-b241-122036a5dbb4",
   "metadata": {},
   "outputs": [
    {
     "name": "stdout",
     "output_type": "stream",
     "text": [
      "+--------+----+\n",
      "|    name| age|\n",
      "+--------+----+\n",
      "|   akbar|  11|\n",
      "|   abbas|  20|\n",
      "|  nasrin|NULL|\n",
      "|fariborz|  40|\n",
      "|    NULL|  90|\n",
      "| goodarz|NULL|\n",
      "|shahrooz|  40|\n",
      "| changiz|  35|\n",
      "|  sohrab|NULL|\n",
      "|belgheis|  31|\n",
      "+--------+----+\n",
      "\n"
     ]
    }
   ],
   "source": [
    "# projection\n",
    "df.select([\"name\", \"age\"]).show()"
   ]
  },
  {
   "cell_type": "code",
   "execution_count": 225,
   "id": "c84bfd1c-7237-48b9-8e28-9141f9c8a064",
   "metadata": {},
   "outputs": [
    {
     "name": "stdout",
     "output_type": "stream",
     "text": [
      "+--------+---+----------+\n",
      "|    name|age|experience|\n",
      "+--------+---+----------+\n",
      "|fariborz| 40|         3|\n",
      "+--------+---+----------+\n",
      "\n"
     ]
    }
   ],
   "source": [
    "# and operation\n",
    "df.filter((df['age'] < 45) & (df['experience'] > 2)).show()"
   ]
  },
  {
   "cell_type": "code",
   "execution_count": 231,
   "id": "5cd4e503-7d3a-4684-a7c7-ac59cc8810f8",
   "metadata": {},
   "outputs": [
    {
     "name": "stdout",
     "output_type": "stream",
     "text": [
      "+--------+----+----------+\n",
      "|    name| age|experience|\n",
      "+--------+----+----------+\n",
      "|   akbar|  11|         2|\n",
      "|   abbas|  20|      NULL|\n",
      "|fariborz|  40|         3|\n",
      "|    NULL|  90|        10|\n",
      "| goodarz|NULL|         5|\n",
      "|shahrooz|  40|         2|\n",
      "| changiz|  35|      NULL|\n",
      "|  sohrab|NULL|         6|\n",
      "|belgheis|  31|      NULL|\n",
      "+--------+----+----------+\n",
      "\n"
     ]
    }
   ],
   "source": [
    "# or operation\n",
    "df.filter((df['age'] < 45) | (df['experience'] > 2)).show()"
   ]
  },
  {
   "cell_type": "code",
   "execution_count": 233,
   "id": "b0867f14-b293-4bc0-88f4-26075332ae8b",
   "metadata": {},
   "outputs": [
    {
     "name": "stdout",
     "output_type": "stream",
     "text": [
      "+--------+----+----------+\n",
      "|    name| age|experience|\n",
      "+--------+----+----------+\n",
      "|   abbas|  20|      NULL|\n",
      "|  nasrin|NULL|         2|\n",
      "|fariborz|  40|         3|\n",
      "| goodarz|NULL|         5|\n",
      "|shahrooz|  40|         2|\n",
      "| changiz|  35|      NULL|\n",
      "|  sohrab|NULL|         6|\n",
      "|belgheis|  31|      NULL|\n",
      "+--------+----+----------+\n",
      "\n"
     ]
    }
   ],
   "source": [
    "# not\n",
    "df.filter(~(df.name == \"akbar\")).show()"
   ]
  },
  {
   "cell_type": "markdown",
   "id": "e8477757-8aa0-463a-b521-267442a3e838",
   "metadata": {},
   "source": [
    "## Part 4 - Pyspark Dataframe - GroupBy and Aggregate functions"
   ]
  },
  {
   "cell_type": "code",
   "execution_count": 286,
   "id": "d5225931-2e7f-4c87-b1d5-61a83afcba75",
   "metadata": {},
   "outputs": [
    {
     "name": "stdout",
     "output_type": "stream",
     "text": [
      "+----+-----+\n",
      "| age|count|\n",
      "+----+-----+\n",
      "|  31|    1|\n",
      "|NULL|    3|\n",
      "|  20|    1|\n",
      "|  40|    2|\n",
      "|  35|    1|\n",
      "|  90|    1|\n",
      "|  11|    1|\n",
      "+----+-----+\n",
      "\n",
      "+----+--------+-----------------+\n",
      "| age|avg(age)|  avg(experience)|\n",
      "+----+--------+-----------------+\n",
      "|  31|    31.0|             NULL|\n",
      "|NULL|    NULL|4.333333333333333|\n",
      "|  20|    20.0|             NULL|\n",
      "|  40|    40.0|              2.5|\n",
      "|  35|    35.0|             NULL|\n",
      "|  90|    90.0|             10.0|\n",
      "|  11|    11.0|              2.0|\n",
      "+----+--------+-----------------+\n",
      "\n",
      "+----+--------+---------------+\n",
      "| age|sum(age)|sum(experience)|\n",
      "+----+--------+---------------+\n",
      "|  31|      31|           NULL|\n",
      "|NULL|    NULL|             13|\n",
      "|  20|      20|           NULL|\n",
      "|  40|      80|              5|\n",
      "|  35|      35|           NULL|\n",
      "|  90|      90|             10|\n",
      "|  11|      11|              2|\n",
      "+----+--------+---------------+\n",
      "\n",
      "+----+--------+---------------+\n",
      "| age|max(age)|max(experience)|\n",
      "+----+--------+---------------+\n",
      "|  31|      31|           NULL|\n",
      "|NULL|    NULL|              6|\n",
      "|  20|      20|           NULL|\n",
      "|  40|      40|              3|\n",
      "|  35|      35|           NULL|\n",
      "|  90|      90|             10|\n",
      "|  11|      11|              2|\n",
      "+----+--------+---------------+\n",
      "\n",
      "+----+--------+---------------+\n",
      "| age|min(age)|min(experience)|\n",
      "+----+--------+---------------+\n",
      "|  31|      31|           NULL|\n",
      "|NULL|    NULL|              2|\n",
      "|  20|      20|           NULL|\n",
      "|  40|      40|              2|\n",
      "|  35|      35|           NULL|\n",
      "|  90|      90|             10|\n",
      "|  11|      11|              2|\n",
      "+----+--------+---------------+\n",
      "\n"
     ]
    }
   ],
   "source": [
    "df.groupBy('age').count().show()\n",
    "df.groupBy('age').mean().show()\n",
    "df.groupBy('age').sum().show()\n",
    "df.groupBy('age').max().show()\n",
    "df.groupBy('age').min().show()"
   ]
  },
  {
   "cell_type": "code",
   "execution_count": 288,
   "id": "cd3d55ff-1779-4c68-a7fe-e0bd7c87c76c",
   "metadata": {},
   "outputs": [
    {
     "name": "stdout",
     "output_type": "stream",
     "text": [
      "+--------+-----------+--------+\n",
      "|    name|count(name)|sum(age)|\n",
      "+--------+-----------+--------+\n",
      "|    NULL|          0|      90|\n",
      "|   abbas|          1|      20|\n",
      "|shahrooz|          1|      40|\n",
      "|  sohrab|          1|    NULL|\n",
      "|   akbar|          1|      11|\n",
      "|fariborz|          1|      40|\n",
      "| changiz|          1|      35|\n",
      "| goodarz|          1|    NULL|\n",
      "|belgheis|          1|      31|\n",
      "|  nasrin|          1|    NULL|\n",
      "+--------+-----------+--------+\n",
      "\n"
     ]
    }
   ],
   "source": [
    "df.groupBy(\"name\").agg({\"age\": \"sum\", \"name\": \"count\"}).show()"
   ]
  },
  {
   "cell_type": "code",
   "execution_count": 278,
   "id": "f7a9fca6-2294-4d9b-a083-6487805954ff",
   "metadata": {},
   "outputs": [
    {
     "name": "stdout",
     "output_type": "stream",
     "text": [
      "+--------+----+----------+\n",
      "|    name| age|experience|\n",
      "+--------+----+----------+\n",
      "|    NULL|  90|        10|\n",
      "|   abbas|  20|      NULL|\n",
      "|   akbar|  11|         2|\n",
      "|belgheis|  31|      NULL|\n",
      "| changiz|  35|      NULL|\n",
      "|fariborz|  40|         3|\n",
      "| goodarz|NULL|         5|\n",
      "|  nasrin|NULL|         2|\n",
      "|shahrooz|  40|         2|\n",
      "|  sohrab|NULL|         6|\n",
      "+--------+----+----------+\n",
      "\n"
     ]
    }
   ],
   "source": [
    "df.sort(\"name\").show()"
   ]
  }
 ],
 "metadata": {
  "kernelspec": {
   "display_name": "Python 3 (ipykernel)",
   "language": "python",
   "name": "python3"
  },
  "language_info": {
   "codemirror_mode": {
    "name": "ipython",
    "version": 3
   },
   "file_extension": ".py",
   "mimetype": "text/x-python",
   "name": "python",
   "nbconvert_exporter": "python",
   "pygments_lexer": "ipython3",
   "version": "3.12.4"
  }
 },
 "nbformat": 4,
 "nbformat_minor": 5
}
